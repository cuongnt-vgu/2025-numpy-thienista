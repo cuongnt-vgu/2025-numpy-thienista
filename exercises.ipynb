{
 "cells": [
  {
   "cell_type": "code",
   "execution_count": 2,
   "metadata": {},
   "outputs": [
    {
     "name": "stdout",
     "output_type": "stream",
     "text": [
      "Setup Complete\n"
     ]
    }
   ],
   "source": [
    "# Importing dependencies\n",
    "\n",
    "from learntools.core import binder\n",
    "import numpy as np\n",
    "import string\n",
    "import pandas as pd\n",
    "from itertools import groupby\n",
    "binder.bind(globals())\n",
    "\n",
    "from learntools_ex import *\n",
    "\n",
    "print(\"Setup Complete\")"
   ]
  },
  {
   "cell_type": "markdown",
   "metadata": {},
   "source": [
    "## **Questions**"
   ]
  },
  {
   "cell_type": "markdown",
   "metadata": {},
   "source": [
    "### **IMPORTANT**: You **don't** have to delete any `q{n}.check()` or `q{n}.hint()` or `q{n}_sol = question_{n}()`. Please make sure that the function name and function signature match the question and the example given. Additionally, all functions should be runnable or your solution will not be evaluated."
   ]
  },
  {
   "cell_type": "markdown",
   "metadata": {},
   "source": [
    "## **Q1:** Create a one-dimensional NumPy array of the numbers from 5 to 905, counting by 10?"
   ]
  },
  {
   "cell_type": "code",
   "execution_count": 7,
   "metadata": {},
   "outputs": [
    {
     "name": "stdout",
     "output_type": "stream",
     "text": [
      "[  5  15  25  35  45  55  65  75  85  95 105 115 125 135 145 155 165 175\n",
      " 185 195 205 215 225 235 245 255 265 275 285 295 305 315 325 335 345 355\n",
      " 365 375 385 395 405 415 425 435 445 455 465 475 485 495 505 515 525 535\n",
      " 545 555 565 575 585 595 605 615 625 635 645 655 665 675 685 695 705 715\n",
      " 725 735 745 755 765 775 785 795 805 815 825 835 845 855 865 875 885 895]\n"
     ]
    },
    {
     "data": {
      "application/javascript": "parent.postMessage({\"jupyterEvent\": \"custom.exercise_interaction\", \"data\": {\"outcomeType\": 1, \"valueTowardsCompletion\": 0.05, \"interactionType\": 1, \"questionType\": 1, \"questionId\": \"1_Exercise1\", \"failureMessage\": \"\", \"exceptionClass\": \"\", \"trace\": \"\"}}, \"*\")",
      "text/plain": [
       "<IPython.core.display.Javascript object>"
      ]
     },
     "metadata": {},
     "output_type": "display_data"
    },
    {
     "data": {
      "text/markdown": [
       "<span style=\"color:#33cc33\">Correct</span>"
      ],
      "text/plain": [
       "Correct"
      ]
     },
     "metadata": {},
     "output_type": "display_data"
    }
   ],
   "source": [
    "def question_1():\n",
    "    q1_sol = np.arange(5, 905, 10)\n",
    "    print(q1_sol)\n",
    "    return q1_sol\n",
    "    #return NotImplementedError #Sorry I don't know what this line does, so I made it commented\n",
    "\n",
    "\n",
    "q1_sol = question_1()\n",
    "q1.check()"
   ]
  },
  {
   "cell_type": "markdown",
   "metadata": {},
   "source": [
    "## **Q2**: Create the same NumPy array using a Python range and a list? (Hint: create a list)"
   ]
  },
  {
   "cell_type": "code",
   "execution_count": 9,
   "metadata": {},
   "outputs": [
    {
     "data": {
      "application/javascript": "parent.postMessage({\"jupyterEvent\": \"custom.exercise_interaction\", \"data\": {\"outcomeType\": 1, \"valueTowardsCompletion\": 0.05, \"interactionType\": 1, \"questionType\": 1, \"questionId\": \"2_Exercise2\", \"failureMessage\": \"\", \"exceptionClass\": \"\", \"trace\": \"\"}}, \"*\")",
      "text/plain": [
       "<IPython.core.display.Javascript object>"
      ]
     },
     "metadata": {},
     "output_type": "display_data"
    },
    {
     "data": {
      "text/markdown": [
       "<span style=\"color:#33cc33\">Correct</span>"
      ],
      "text/plain": [
       "Correct"
      ]
     },
     "metadata": {},
     "output_type": "display_data"
    }
   ],
   "source": [
    "def question_2():\n",
    "    q2_sol = np.array([i for i in range(5, 905, 10)])\n",
    "    return q2_sol\n",
    "    #raise NotImplementedError #Sorry I don't know what does this line do, so I made it commented\n",
    "\n",
    "\n",
    "q2_sol = question_2()\n",
    "q2.check()"
   ]
  },
  {
   "cell_type": "markdown",
   "metadata": {},
   "source": [
    "## **Q3**: How might you create a NumPy array of the capital letters, A-Z? (Hint: Ever heard of string.ascii_uppercase?)"
   ]
  },
  {
   "cell_type": "code",
   "execution_count": 42,
   "metadata": {},
   "outputs": [
    {
     "data": {
      "application/javascript": "parent.postMessage({\"jupyterEvent\": \"custom.exercise_interaction\", \"data\": {\"outcomeType\": 1, \"valueTowardsCompletion\": 0.05, \"interactionType\": 1, \"questionType\": 1, \"questionId\": \"3_Exercise3\", \"failureMessage\": \"\", \"exceptionClass\": \"\", \"trace\": \"\"}}, \"*\")",
      "text/plain": [
       "<IPython.core.display.Javascript object>"
      ]
     },
     "metadata": {},
     "output_type": "display_data"
    },
    {
     "data": {
      "text/markdown": [
       "<span style=\"color:#33cc33\">Correct</span>"
      ],
      "text/plain": [
       "Correct"
      ]
     },
     "metadata": {},
     "output_type": "display_data"
    }
   ],
   "source": [
    "def question_3():\n",
    "    q3_sol = np.array(list(string.ascii_uppercase)) # have to import string (don't need to write \"from numpy import string\" again as it already existed)\n",
    "    return q3_sol\n",
    "    #raise NotImplementedError #Sorry I don't know what does this line do, so I made it commented\n",
    "\n",
    "\n",
    "q3_sol = question_3()\n",
    "q3.check()"
   ]
  },
  {
   "cell_type": "markdown",
   "metadata": {},
   "source": [
    "## **Q4**: Create a ten-element NumPy array object of all zeros and a six-element NumPy array object of all ones."
   ]
  },
  {
   "cell_type": "code",
   "execution_count": 43,
   "metadata": {},
   "outputs": [
    {
     "data": {
      "application/javascript": "parent.postMessage({\"jupyterEvent\": \"custom.exercise_interaction\", \"data\": {\"outcomeType\": 1, \"valueTowardsCompletion\": 0.05, \"interactionType\": 1, \"questionType\": 1, \"questionId\": \"4_Exercise4\", \"failureMessage\": \"\", \"exceptionClass\": \"\", \"trace\": \"\"}}, \"*\")",
      "text/plain": [
       "<IPython.core.display.Javascript object>"
      ]
     },
     "metadata": {},
     "output_type": "display_data"
    },
    {
     "data": {
      "text/markdown": [
       "<span style=\"color:#33cc33\">Correct</span>"
      ],
      "text/plain": [
       "Correct"
      ]
     },
     "metadata": {},
     "output_type": "display_data"
    }
   ],
   "source": [
    "def question_4() -> tuple:\n",
    "    # Expected: return (sol1, sol2)\n",
    "    q4_sol_1 = np.zeros(10)\n",
    "    q4_sol_2 = np.ones(6)\n",
    "    return (q4_sol_1, q4_sol_2)\n",
    "    #raise NotImplementedError\n",
    "q4_sol_1, q4_sol_2 = question_4()\n",
    "q4.check()"
   ]
  },
  {
   "cell_type": "markdown",
   "metadata": {},
   "source": [
    "## **Q5**: Given an 2-D array, print the third column."
   ]
  },
  {
   "cell_type": "code",
   "execution_count": 10,
   "metadata": {},
   "outputs": [
    {
     "data": {
      "application/javascript": "parent.postMessage({\"jupyterEvent\": \"custom.exercise_interaction\", \"data\": {\"outcomeType\": 1, \"valueTowardsCompletion\": 0.05, \"interactionType\": 1, \"questionType\": 1, \"questionId\": \"5_Exercise5\", \"failureMessage\": \"\", \"exceptionClass\": \"\", \"trace\": \"\"}}, \"*\")",
      "text/plain": [
       "<IPython.core.display.Javascript object>"
      ]
     },
     "metadata": {},
     "output_type": "display_data"
    },
    {
     "data": {
      "text/markdown": [
       "<span style=\"color:#33cc33\">Correct</span>"
      ],
      "text/plain": [
       "Correct"
      ]
     },
     "metadata": {},
     "output_type": "display_data"
    }
   ],
   "source": [
    "input = np.array([[11, 22, 33], [44, 55, 66], [77, 88, 99]])\n",
    "\n",
    "\n",
    "def question_5(input):\n",
    "    q5_sol = input[:, -1]\n",
    "    return q5_sol\n",
    "    #raise NotImplementedError\n",
    "\n",
    "\n",
    "q5_sol = question_5(input)\n",
    "q5.check()"
   ]
  },
  {
   "cell_type": "markdown",
   "metadata": {},
   "source": [
    "## **Q6**: Create an array of the shape (3, 4), filled with 64-bit integer zeros."
   ]
  },
  {
   "cell_type": "code",
   "execution_count": 23,
   "metadata": {},
   "outputs": [
    {
     "data": {
      "application/javascript": "parent.postMessage({\"jupyterEvent\": \"custom.exercise_interaction\", \"data\": {\"outcomeType\": 1, \"valueTowardsCompletion\": 0.05, \"interactionType\": 1, \"questionType\": 1, \"questionId\": \"6_Exercise6\", \"failureMessage\": \"\", \"exceptionClass\": \"\", \"trace\": \"\"}}, \"*\")",
      "text/plain": [
       "<IPython.core.display.Javascript object>"
      ]
     },
     "metadata": {},
     "output_type": "display_data"
    },
    {
     "data": {
      "text/markdown": [
       "<span style=\"color:#33cc33\">Correct</span>"
      ],
      "text/plain": [
       "Correct"
      ]
     },
     "metadata": {},
     "output_type": "display_data"
    }
   ],
   "source": [
    "def question_6():\n",
    "    q6_sol = np.zeros((3, 4), dtype=np.int64)\n",
    "    return (q6_sol)\n",
    "    #raise NotImplementedError\n",
    "\n",
    "q6_sol = question_6()\n",
    "q6.check()"
   ]
  },
  {
   "cell_type": "markdown",
   "metadata": {},
   "source": [
    "## **Q7**: Split an array into 3 equal-sized sub-arrays."
   ]
  },
  {
   "cell_type": "code",
   "execution_count": 27,
   "metadata": {},
   "outputs": [
    {
     "name": "stdout",
     "output_type": "stream",
     "text": [
      "[array([[ 7,  8,  9],\n",
      "       [10, 11, 12],\n",
      "       [13, 14, 15]]), array([[16, 17, 18],\n",
      "       [19, 20, 21],\n",
      "       [22, 23, 24]]), array([[25, 26, 27],\n",
      "       [28, 29, 30],\n",
      "       [31, 32, 33]])]\n"
     ]
    },
    {
     "data": {
      "application/javascript": "parent.postMessage({\"jupyterEvent\": \"custom.exercise_interaction\", \"data\": {\"outcomeType\": 1, \"valueTowardsCompletion\": 0.05, \"interactionType\": 1, \"questionType\": 1, \"questionId\": \"7_Exercise7\", \"failureMessage\": \"\", \"exceptionClass\": \"\", \"trace\": \"\"}}, \"*\")",
      "text/plain": [
       "<IPython.core.display.Javascript object>"
      ]
     },
     "metadata": {},
     "output_type": "display_data"
    },
    {
     "data": {
      "text/markdown": [
       "<span style=\"color:#33cc33\">Correct</span>"
      ],
      "text/plain": [
       "Correct"
      ]
     },
     "metadata": {},
     "output_type": "display_data"
    }
   ],
   "source": [
    "input = np.arange(7, 34, 1).reshape(9, 3)\n",
    "\n",
    "\n",
    "\n",
    "def question_7(input):\n",
    "    # Expected: return (q7_sol_1, q7_sol_2, q7_sol_3)\n",
    "    #input = input.reshape(3, 9)\n",
    "    q7_sol = np.split(input, 3)\n",
    "    print(q7_sol)\n",
    "    return q7_sol\n",
    "    \n",
    "    #raise NotImplementedError\n",
    "\n",
    "\n",
    "q7_sol_1, q7_sol_2, q7_sol_3 = question_7(input)\n",
    "q7.check()"
   ]
  },
  {
   "cell_type": "markdown",
   "metadata": {},
   "source": [
    "## **Q8**: Return the last 2 elements by each of the first rows of the (3,4) array. "
   ]
  },
  {
   "cell_type": "code",
   "execution_count": 43,
   "metadata": {},
   "outputs": [
    {
     "name": "stdout",
     "output_type": "stream",
     "text": [
      "[[ 1  2  3  4]\n",
      " [ 5  6  7  8]\n",
      " [ 9 10 11 12]]\n"
     ]
    },
    {
     "data": {
      "application/javascript": "parent.postMessage({\"jupyterEvent\": \"custom.exercise_interaction\", \"data\": {\"outcomeType\": 1, \"valueTowardsCompletion\": 0.05, \"interactionType\": 1, \"questionType\": 1, \"questionId\": \"8_Exercise8\", \"failureMessage\": \"\", \"exceptionClass\": \"\", \"trace\": \"\"}}, \"*\")",
      "text/plain": [
       "<IPython.core.display.Javascript object>"
      ]
     },
     "metadata": {},
     "output_type": "display_data"
    },
    {
     "data": {
      "text/markdown": [
       "<span style=\"color:#33cc33\">Correct</span>"
      ],
      "text/plain": [
       "Correct"
      ]
     },
     "metadata": {},
     "output_type": "display_data"
    }
   ],
   "source": [
    "input = np.arange(1, 13, 1).reshape(3, 4)\n",
    "\n",
    "\n",
    "def question_8(input):\n",
    "    print (input)\n",
    "    q8_sol = input[:2, -2:]\n",
    "    return (q8_sol)\n",
    "    #raise NotImplementedError\n",
    "\n",
    "\n",
    "q8_sol = question_8(input)\n",
    "q8.check()"
   ]
  },
  {
   "cell_type": "markdown",
   "metadata": {},
   "source": [
    "## **Q9**: Return how many elements are greater than 5 in an array."
   ]
  },
  {
   "cell_type": "code",
   "execution_count": 46,
   "metadata": {},
   "outputs": [
    {
     "name": "stdout",
     "output_type": "stream",
     "text": [
      "[[ 1  2  3  4]\n",
      " [ 5  6  7  8]\n",
      " [ 9 10 11 12]]\n"
     ]
    },
    {
     "data": {
      "application/javascript": "parent.postMessage({\"jupyterEvent\": \"custom.exercise_interaction\", \"data\": {\"outcomeType\": 1, \"valueTowardsCompletion\": 0.05, \"interactionType\": 1, \"questionType\": 1, \"questionId\": \"9_Exercise9\", \"failureMessage\": \"\", \"exceptionClass\": \"\", \"trace\": \"\"}}, \"*\")",
      "text/plain": [
       "<IPython.core.display.Javascript object>"
      ]
     },
     "metadata": {},
     "output_type": "display_data"
    },
    {
     "data": {
      "text/markdown": [
       "<span style=\"color:#33cc33\">Correct</span>"
      ],
      "text/plain": [
       "Correct"
      ]
     },
     "metadata": {},
     "output_type": "display_data"
    }
   ],
   "source": [
    "input = np.arange(1, 13, 1).reshape(3, 4)\n",
    "\n",
    "\n",
    "def question_9(input):\n",
    "    print (input)\n",
    "    q9_sol = np.count_nonzero(input > 5)\n",
    "    return (q9_sol)\n",
    "    #raise NotImplementedError\n",
    "\n",
    "\n",
    "q9_sol = question_9(input)\n",
    "q9.check()"
   ]
  },
  {
   "cell_type": "markdown",
   "metadata": {},
   "source": [
    "## **Q10**: Delete the second column from an array and insert the following new column in the same place."
   ]
  },
  {
   "cell_type": "code",
   "execution_count": null,
   "metadata": {},
   "outputs": [
    {
     "name": "stdout",
     "output_type": "stream",
     "text": [
      "[[34 72 33]\n",
      " [82 22 32]\n",
      " [59 84 10]]\n",
      "[[34 33]\n",
      " [82 32]\n",
      " [59 10]]\n",
      "[[34 37 33]\n",
      " [82 37 32]\n",
      " [59 37 10]]\n"
     ]
    },
    {
     "data": {
      "application/javascript": "parent.postMessage({\"jupyterEvent\": \"custom.exercise_interaction\", \"data\": {\"outcomeType\": 1, \"valueTowardsCompletion\": 0.05, \"interactionType\": 1, \"questionType\": 1, \"questionId\": \"10_Exercise10\", \"failureMessage\": \"\", \"exceptionClass\": \"\", \"trace\": \"\"}}, \"*\")",
      "text/plain": [
       "<IPython.core.display.Javascript object>"
      ]
     },
     "metadata": {},
     "output_type": "display_data"
    },
    {
     "data": {
      "text/markdown": [
       "<span style=\"color:#33cc33\">Correct</span>"
      ],
      "text/plain": [
       "Correct"
      ]
     },
     "metadata": {},
     "output_type": "display_data"
    }
   ],
   "source": [
    "input = np.array([[34, 72, 33], [82, 22, 32], [59, 84, 10]])\n",
    "insert_data = np.array([[37, 37, 37]])\n",
    "\n",
    "\n",
    "def question_10(input, insert_data):\n",
    "    print(input)\n",
    "    q10_sol = np.delete(input, 1, 1)\n",
    "    print(q10_sol)\n",
    "    q10_sol = np.insert(q10_sol, 1, insert_data, axis = 1)\n",
    "    print(q10_sol) # print to check if it's correct or not\n",
    "    return q10_sol\n",
    "    #raise NotImplementedError\n",
    "\n",
    "\n",
    "q10_sol = question_10(input, insert_data)\n",
    "q10.check()"
   ]
  },
  {
   "cell_type": "markdown",
   "metadata": {},
   "source": [
    "## **Q11**: Compute the Euclidean distance between each pair of consecutive points in a given 2D NumPy array and append the result as a new column.\n",
    "\n",
    "Euclidian distance between two points $(x_1, y_1)$ and $(x_2, y_2)$ is $\\sqrt{(x_2 - x_1)^2 + (y_2 - y_1)^2}$.  "
   ]
  },
  {
   "cell_type": "code",
   "execution_count": null,
   "metadata": {},
   "outputs": [
    {
     "name": "stdout",
     "output_type": "stream",
     "text": [
      "[[ 1  2]\n",
      " [ 4  6]\n",
      " [ 7  8]\n",
      " [10 10]]\n",
      "[[3 4]\n",
      " [3 2]\n",
      " [3 2]]\n",
      "[[ 1.          2.          5.        ]\n",
      " [ 4.          6.          3.60555128]\n",
      " [ 7.          8.          3.60555128]\n",
      " [10.         10.          0.        ]]\n"
     ]
    },
    {
     "data": {
      "application/javascript": "parent.postMessage({\"jupyterEvent\": \"custom.exercise_interaction\", \"data\": {\"outcomeType\": 1, \"valueTowardsCompletion\": 0.05, \"interactionType\": 1, \"questionType\": 1, \"questionId\": \"11_Exercise11\", \"failureMessage\": \"\", \"exceptionClass\": \"\", \"trace\": \"\"}}, \"*\")",
      "text/plain": [
       "<IPython.core.display.Javascript object>"
      ]
     },
     "metadata": {},
     "output_type": "display_data"
    },
    {
     "data": {
      "text/markdown": [
       "<span style=\"color:#33cc33\">Correct</span>"
      ],
      "text/plain": [
       "Correct"
      ]
     },
     "metadata": {},
     "output_type": "display_data"
    }
   ],
   "source": [
    "input = np.array([[1, 2], [4, 6], [7, 8], [10, 10]])\n",
    "\n",
    "\n",
    "def question_11(input):\n",
    "    print(input)\n",
    "    diff = np.diff(input, axis = 0)\n",
    "    print(diff)\n",
    "\n",
    "    eucludian = np.sqrt(np.sum(diff**2, axis = 1))\n",
    "    eucludian_col = np.append(eucludian, 0)[:, np.newaxis] # add 0 not nan, I spent nearly 1 hour to find out, maybe not everyone does the same, but quite interesting to know. Thank you!\n",
    "    q11_sol = np.hstack((input, eucludian_col))\n",
    "    print(q11_sol)\n",
    "    return q11_sol\n",
    "    #raise NotImplementedError\n",
    "\n",
    "q11_sol = question_11(input)\n",
    "q11.check()"
   ]
  },
  {
   "cell_type": "markdown",
   "metadata": {},
   "source": [
    "## **Q12**: Remove consecutive duplicates from a NumPy array."
   ]
  },
  {
   "cell_type": "code",
   "execution_count": 67,
   "metadata": {},
   "outputs": [
    {
     "name": "stdout",
     "output_type": "stream",
     "text": [
      "[1. 1. 1. 1. 1. 1.]\n",
      "[ True  True  True  True  True  True]\n",
      "[ True  True  True False  True  True]\n",
      "[[1 1]\n",
      " [2 1]\n",
      " [3 3]\n",
      " [2 1]\n",
      " [1 1]]\n"
     ]
    },
    {
     "data": {
      "application/javascript": "parent.postMessage({\"jupyterEvent\": \"custom.exercise_interaction\", \"data\": {\"outcomeType\": 1, \"valueTowardsCompletion\": 0.05, \"interactionType\": 1, \"questionType\": 1, \"questionId\": \"12_Exercise12\", \"failureMessage\": \"\", \"exceptionClass\": \"\", \"trace\": \"\"}}, \"*\")",
      "text/plain": [
       "<IPython.core.display.Javascript object>"
      ]
     },
     "metadata": {},
     "output_type": "display_data"
    },
    {
     "data": {
      "text/markdown": [
       "<span style=\"color:#33cc33\">Correct</span>"
      ],
      "text/plain": [
       "Correct"
      ]
     },
     "metadata": {},
     "output_type": "display_data"
    }
   ],
   "source": [
    "input = np.array([[1, 1], [2, 1], [3, 3], [3, 3], [2, 1], [1, 1]])\n",
    "\n",
    "def question_12(input):\n",
    "    array = np.ones(len(input))\n",
    "    print(array)\n",
    "    mask = np.ones(len(input), dtype=bool)\n",
    "    print(mask)\n",
    "    mask[1:] = ~(np.all(input[1:] == input[:-1], axis=1))\n",
    "    print(mask)\n",
    "    q12_sol = input[mask]\n",
    "    print(q12_sol)\n",
    "    return q12_sol\n",
    "    #raise NotImplementedError\n",
    "\n",
    "q12_sol = question_12(input)\n",
    "q12.check()"
   ]
  },
  {
   "cell_type": "markdown",
   "metadata": {},
   "source": [
    "## **Q13**: Given a 2D NumPy array representing strokes, normalize all rows by subtracting the mean of each column and dividing by the standard deviation, but avoid division by zero.\n",
    "$X_{\\text{normalized}} = \\frac{X - \\mu}{\\sigma}$"
   ]
  },
  {
   "cell_type": "code",
   "execution_count": 8,
   "metadata": {},
   "outputs": [
    {
     "name": "stdout",
     "output_type": "stream",
     "text": [
      "[[10 20 30]\n",
      " [15 24 33]\n",
      " [ 8 18 29]\n",
      " [14 22 32]]\n",
      "[11.75 21.   31.  ]\n",
      "[2.86138079 2.23606798 1.58113883]\n",
      "[[-0.61159284 -0.4472136  -0.63245553]\n",
      " [ 1.13581527  1.34164079  1.26491106]\n",
      " [-1.31055608 -1.34164079 -1.26491106]\n",
      " [ 0.78633365  0.4472136   0.63245553]]\n"
     ]
    },
    {
     "data": {
      "application/javascript": "parent.postMessage({\"jupyterEvent\": \"custom.exercise_interaction\", \"data\": {\"outcomeType\": 1, \"valueTowardsCompletion\": 0.05, \"interactionType\": 1, \"questionType\": 1, \"questionId\": \"13_Exercise13\", \"failureMessage\": \"\", \"exceptionClass\": \"\", \"trace\": \"\"}}, \"*\")",
      "text/plain": [
       "<IPython.core.display.Javascript object>"
      ]
     },
     "metadata": {},
     "output_type": "display_data"
    },
    {
     "data": {
      "text/markdown": [
       "<span style=\"color:#33cc33\">Correct</span>"
      ],
      "text/plain": [
       "Correct"
      ]
     },
     "metadata": {},
     "output_type": "display_data"
    }
   ],
   "source": [
    "input = np.array([[10, 20, 30], [15, 24, 33], [8, 18, 29], [14, 22, 32]])\n",
    "\n",
    "def question_13(input):\n",
    "    print(input)\n",
    "    mean_value = np.mean(input, axis = 0)\n",
    "    print(mean_value)\n",
    "    stdev = np.std(input, axis = 0)\n",
    "    print(stdev)\n",
    "    \n",
    "    q13_sol = (input - mean_value) / stdev\n",
    "    print(q13_sol)\n",
    "\n",
    "    return q13_sol\n",
    "    #raise NotImplementedError\n",
    "\n",
    "\n",
    "q13_sol = question_13(input)\n",
    "q13.check()"
   ]
  },
  {
   "cell_type": "markdown",
   "metadata": {},
   "source": [
    "## **Q14**: Delete the second column from an array and insert a new column at the same position where each value is the sum of its corresponding row."
   ]
  },
  {
   "cell_type": "code",
   "execution_count": 16,
   "metadata": {},
   "outputs": [
    {
     "name": "stdout",
     "output_type": "stream",
     "text": [
      "[[1 2 3]\n",
      " [4 5 6]\n",
      " [7 8 9]]\n",
      "[ 6 15 24]\n",
      "[[1 3]\n",
      " [4 6]\n",
      " [7 9]]\n",
      "[[ 1  6  3]\n",
      " [ 4 15  6]\n",
      " [ 7 24  9]]\n"
     ]
    },
    {
     "data": {
      "application/javascript": "parent.postMessage({\"jupyterEvent\": \"custom.exercise_interaction\", \"data\": {\"outcomeType\": 1, \"valueTowardsCompletion\": 0.05, \"interactionType\": 1, \"questionType\": 1, \"questionId\": \"14_Exercise14\", \"failureMessage\": \"\", \"exceptionClass\": \"\", \"trace\": \"\"}}, \"*\")",
      "text/plain": [
       "<IPython.core.display.Javascript object>"
      ]
     },
     "metadata": {},
     "output_type": "display_data"
    },
    {
     "data": {
      "text/markdown": [
       "<span style=\"color:#33cc33\">Correct</span>"
      ],
      "text/plain": [
       "Correct"
      ]
     },
     "metadata": {},
     "output_type": "display_data"
    }
   ],
   "source": [
    "input = np.array([[1, 2, 3], [4, 5, 6], [7, 8, 9]])\n",
    "\n",
    "\n",
    "def question_14(input):\n",
    "    print(input)\n",
    "    new_2nd_col = np.sum(input, axis = 1)\n",
    "    print(new_2nd_col)\n",
    "    new_array = np.delete(input, 1, axis = 1)\n",
    "    print(new_array)\n",
    "    q13_sol = np.insert(new_array, 1, new_2nd_col, axis = 1)\n",
    "    print(q13_sol)\n",
    "    return q13_sol\n",
    "\n",
    "    #raise NotImplementedError\n",
    "\n",
    "\n",
    "q14_sol = question_14(input)\n",
    "q14.check()"
   ]
  },
  {
   "cell_type": "markdown",
   "metadata": {},
   "source": [
    "## **Q15**: Extract Unique Characters from a NumPy Array of Strings\n",
    "Given a 1D NumPy array of strings, extract all unique characters present in the array and sort by their ASCII values."
   ]
  },
  {
   "cell_type": "code",
   "execution_count": 13,
   "metadata": {},
   "outputs": [
    {
     "name": "stdout",
     "output_type": "stream",
     "text": [
      "{'m', 'c', 'p', 'k', 'e', 'w', 'n', 'y', 'r', 'd', 'o', 'l', 's', 'u', 'h'}\n"
     ]
    },
    {
     "data": {
      "application/javascript": "parent.postMessage({\"jupyterEvent\": \"custom.exercise_interaction\", \"data\": {\"outcomeType\": 1, \"valueTowardsCompletion\": 0.05, \"interactionType\": 1, \"questionType\": 1, \"questionId\": \"15_Exercise15\", \"failureMessage\": \"\", \"exceptionClass\": \"\", \"trace\": \"\"}}, \"*\")",
      "text/plain": [
       "<IPython.core.display.Javascript object>"
      ]
     },
     "metadata": {},
     "output_type": "display_data"
    },
    {
     "data": {
      "text/markdown": [
       "<span style=\"color:#33cc33\">Correct</span>"
      ],
      "text/plain": [
       "Correct"
      ]
     },
     "metadata": {},
     "output_type": "display_data"
    }
   ],
   "source": [
    "input = np.array([\"hello\", \"world\", \"numpy\", \"rocks\"])\n",
    "\n",
    "\n",
    "def question_15(input):\n",
    "    q15_sol = set(sorted(\"\".join(input)))\n",
    "    print(q15_sol)\n",
    "    return q15_sol\n",
    "    #raise NotImplementedError\n",
    "\n",
    "\n",
    "q15_sol = question_15(input)\n",
    "q15.check()"
   ]
  },
  {
   "cell_type": "markdown",
   "metadata": {},
   "source": [
    "## **Q16**: Generate a dictionary that maps each unique character to a unique index starting with 0, sorted by ascending ASCII value."
   ]
  },
  {
   "cell_type": "code",
   "execution_count": 3,
   "metadata": {},
   "outputs": [
    {
     "name": "stdout",
     "output_type": "stream",
     "text": [
      "{'a': 0, 'b': 1, 'c': 2, 'd': 3, 'e': 4}\n"
     ]
    },
    {
     "data": {
      "application/javascript": "parent.postMessage({\"jupyterEvent\": \"custom.exercise_interaction\", \"data\": {\"outcomeType\": 1, \"valueTowardsCompletion\": 0.05, \"interactionType\": 1, \"questionType\": 1, \"questionId\": \"16_Exercise16\", \"failureMessage\": \"\", \"exceptionClass\": \"\", \"trace\": \"\"}}, \"*\")",
      "text/plain": [
       "<IPython.core.display.Javascript object>"
      ]
     },
     "metadata": {},
     "output_type": "display_data"
    },
    {
     "data": {
      "text/markdown": [
       "<span style=\"color:#33cc33\">Correct</span>"
      ],
      "text/plain": [
       "Correct"
      ]
     },
     "metadata": {},
     "output_type": "display_data"
    }
   ],
   "source": [
    "input = np.array([\"a\", \"b\", \"c\", \"d\", \"a\", \"c\", \"e\"])\n",
    "\n",
    "\n",
    "def question_16(input):\n",
    "    x = \"\".join(input)\n",
    "    unique = sorted(set(x))\n",
    "    q16_sol = {char: index for index, char in enumerate(unique)}\n",
    "\n",
    "    print(q16_sol)\n",
    "    return q16_sol\n",
    "    #raise NotImplementedError\n",
    "\n",
    "\n",
    "q16_sol = question_16(input)\n",
    "q16.check()"
   ]
  },
  {
   "cell_type": "markdown",
   "metadata": {},
   "source": [
    "## **Q17**: Convert a List of 2D traces into a Single NumPy Array\n",
    "Given a list of 2D traces (each being a NumPy array of shape `(N, 2)`), stack them into a single NumPy array."
   ]
  },
  {
   "cell_type": "code",
   "execution_count": 17,
   "metadata": {},
   "outputs": [
    {
     "name": "stdout",
     "output_type": "stream",
     "text": [
      "Original: [[1 2]\n",
      " [3 4]]\n",
      "[[ 1  2]\n",
      " [ 3  4]\n",
      " [ 5  6]\n",
      " [ 7  8]\n",
      " [ 9 10]]\n"
     ]
    },
    {
     "data": {
      "application/javascript": "parent.postMessage({\"jupyterEvent\": \"custom.exercise_interaction\", \"data\": {\"outcomeType\": 1, \"valueTowardsCompletion\": 0.05, \"interactionType\": 1, \"questionType\": 1, \"questionId\": \"17_Exercise17\", \"failureMessage\": \"\", \"exceptionClass\": \"\", \"trace\": \"\"}}, \"*\")",
      "text/plain": [
       "<IPython.core.display.Javascript object>"
      ]
     },
     "metadata": {},
     "output_type": "display_data"
    },
    {
     "data": {
      "text/markdown": [
       "<span style=\"color:#33cc33\">Correct</span>"
      ],
      "text/plain": [
       "Correct"
      ]
     },
     "metadata": {},
     "output_type": "display_data"
    }
   ],
   "source": [
    "input = [np.array([[1, 2], [3, 4]]), np.array([[5, 6], [7, 8], [9, 10]])]\n",
    "\n",
    "\n",
    "def question_17(input):\n",
    "    \n",
    "    print(f\"Original: {input[0]}\")\n",
    "\n",
    "    q17_sol = np.concatenate((input[0], input[1]), axis = 0)\n",
    "    print(q17_sol)\n",
    "    return q17_sol\n",
    "    #return None\n",
    "    #raise NotImplementedError\n",
    "\n",
    "\n",
    "q17_sol = question_17(input)\n",
    "q17.check()"
   ]
  },
  {
   "cell_type": "markdown",
   "metadata": {},
   "source": [
    "## **Q18**: Convert a List of Text Labels into a NumPy Array of Integer Encodings\n",
    "Given a vocabulary dictionary and a string of space-separated labels, convert the text into a NumPy array of indices."
   ]
  },
  {
   "cell_type": "code",
   "execution_count": 64,
   "metadata": {},
   "outputs": [
    {
     "name": "stdout",
     "output_type": "stream",
     "text": [
      "hello\n",
      "0\n",
      "2\n",
      "[0 2]\n"
     ]
    },
    {
     "data": {
      "application/javascript": "parent.postMessage({\"jupyterEvent\": \"custom.exercise_interaction\", \"data\": {\"outcomeType\": 1, \"valueTowardsCompletion\": 0.05, \"interactionType\": 1, \"questionType\": 1, \"questionId\": \"18_Exercise18\", \"failureMessage\": \"\", \"exceptionClass\": \"\", \"trace\": \"\"}}, \"*\")",
      "text/plain": [
       "<IPython.core.display.Javascript object>"
      ]
     },
     "metadata": {},
     "output_type": "display_data"
    },
    {
     "data": {
      "text/markdown": [
       "<span style=\"color:#33cc33\">Correct</span>"
      ],
      "text/plain": [
       "Correct"
      ]
     },
     "metadata": {},
     "output_type": "display_data"
    }
   ],
   "source": [
    "input = {\n",
    "    \"hello\": 0,\n",
    "    \"numpy\": 1,\n",
    "    \"rocks\": 2,\n",
    "    \"world\": 3,\n",
    "    \"python\": 4,\n",
    "    \"data\": 5,\n",
    "    \"science\": 6,\n",
    "}\n",
    "\n",
    "labels = \"hello rocks\"\n",
    "\n",
    "def question_18(input, labels):\n",
    "    lst_words = labels.split(\" \")\n",
    "\n",
    "    print(lst_words[0])\n",
    "    for j in range(len(lst_words)):\n",
    "        temp = lst_words[j]\n",
    "        print(input[temp])\n",
    "        lst_words[j] = input[temp]\n",
    "    q18_sol = np.array(lst_words)\n",
    "    print(q18_sol)\n",
    "    return q18_sol\n",
    "    \n",
    "    #return None    \n",
    "    #raise NotImplementedError\n",
    "\n",
    "\n",
    "q18_sol = question_18(input, labels)\n",
    "q18.check()"
   ]
  },
  {
   "cell_type": "markdown",
   "metadata": {},
   "source": [
    "## **Q19**: Extract Non-Zero Differences from an Array\n",
    "Given a NumPy array of first-order differences, extract only non-zero differences using masking."
   ]
  },
  {
   "cell_type": "code",
   "execution_count": null,
   "metadata": {},
   "outputs": [
    {
     "name": "stdout",
     "output_type": "stream",
     "text": [
      "[ 3  4 -2  1]\n",
      "[ True False  True]\n",
      "[[ 3  4]\n",
      " [-2  1]]\n"
     ]
    },
    {
     "data": {
      "application/javascript": "parent.postMessage({\"jupyterEvent\": \"custom.exercise_interaction\", \"data\": {\"outcomeType\": 1, \"valueTowardsCompletion\": 0.05, \"interactionType\": 1, \"questionType\": 1, \"questionId\": \"19_Exercise19\", \"failureMessage\": \"\", \"exceptionClass\": \"\", \"trace\": \"\"}}, \"*\")",
      "text/plain": [
       "<IPython.core.display.Javascript object>"
      ]
     },
     "metadata": {},
     "output_type": "display_data"
    },
    {
     "data": {
      "text/markdown": [
       "<span style=\"color:#33cc33\">Correct</span>"
      ],
      "text/plain": [
       "Correct"
      ]
     },
     "metadata": {},
     "output_type": "display_data"
    }
   ],
   "source": [
    "input = np.array([[3, 4], [0, 0], [-2, 1]])\n",
    "\n",
    "\n",
    "def question_19(input):\n",
    "   mask = input != 0\n",
    "   input_test = input[mask]\n",
    "   print(input_test)\n",
    "\n",
    "   mask_q19 = np.all(input != 0, axis=1)\n",
    "   print(mask_q19)\n",
    "   q19_sol = input[mask_q19]\n",
    "   print(q19_sol)\n",
    "   return q19_sol\n",
    "   #raise NotImplementedError\n",
    "\n",
    "\n",
    "q19_sol = question_19(input)\n",
    "q19.check()"
   ]
  },
  {
   "cell_type": "markdown",
   "metadata": {},
   "source": [
    "## **Q20**: Time Series Data Transformation and Feature Engineering\n",
    "\n",
    "### *Problem Statement:*  \n",
    "You are given a time series dataset representing sensor readings from multiple devices. Each row consists of sensor values at a specific timestamp. Your task is to preprocess and extract meaningful features from the dataset by performing the following transformations:\n",
    "\n",
    "### *Steps to Follow:*\n",
    "1. Normalize Each Sensor Reading  \n",
    "- Subtract the mean and divide by the standard deviation for each column.  \n",
    "- Avoid division by zero by replacing std=0 with 1.  \n",
    "2. Detect and Mask Anomalous Values\n",
    "- If a sensor reading is more than 2.5 standard deviations away from the mean, replace it with NaN.\n",
    "3. Interpolate Missing Values (NaN Handling)\n",
    "- Fill NaN values with the average of the nearest non-NaN neighbors.\n",
    "4. Extract First-Order Differences\n",
    "- Compute the difference between consecutive time steps for each sensor.\n",
    "5. Add a Binary Column for Missing Data\n",
    "- Stack All Features into a Final Matrix\n",
    "Create a new column `missing_flag` that is `1` where original data was `NaN`, otherwise `0`.\n",
    "6. Stack All Features into a Final Matrix\n",
    "- The final dataset should have normalized values, moving averages, first-order differences, and the missing flag."
   ]
  },
  {
   "cell_type": "code",
   "execution_count": 11,
   "metadata": {},
   "outputs": [
    {
     "name": "stdout",
     "output_type": "stream",
     "text": [
      "[[1.e+00 1.e+01 1.e+02]\n",
      " [2.e+00 2.e+01 2.e+02]\n",
      " [3.e+00 3.e+01 1.e+04]\n",
      " [4.e+00 4.e+01 4.e+02]\n",
      " [5.e+00 5.e+01 5.e+02]]\n",
      "[   3.   30. 2240.]\n",
      "[1.41421356e+00 1.41421356e+01 3.88257646e+03]\n",
      "[[-1.41421356 -1.41421356 -0.55118039]\n",
      " [-0.70710678 -0.70710678 -0.52542429]\n",
      " [ 0.          0.          1.99867281]\n",
      " [ 0.70710678  0.70710678 -0.47391211]\n",
      " [ 1.41421356  1.41421356 -0.44815602]]\n",
      "[[False False False]\n",
      " [False False False]\n",
      " [False False False]\n",
      " [False False False]\n",
      " [False False False]]\n",
      "[[1.e+00 1.e+01 1.e+02]\n",
      " [2.e+00 2.e+01 2.e+02]\n",
      " [3.e+00 3.e+01 1.e+04]\n",
      " [4.e+00 4.e+01 4.e+02]\n",
      " [5.e+00 5.e+01 5.e+02]]\n",
      "[[1.e+00 1.e+01 1.e+02]\n",
      " [2.e+00 2.e+01 2.e+02]\n",
      " [3.e+00 3.e+01 1.e+04]\n",
      " [4.e+00 4.e+01 4.e+02]\n",
      " [5.e+00 5.e+01 5.e+02]]\n",
      "[[ 1.0e+00  1.0e+01  1.0e+02]\n",
      " [ 1.0e+00  1.0e+01  9.8e+03]\n",
      " [ 1.0e+00  1.0e+01 -9.6e+03]\n",
      " [ 1.0e+00  1.0e+01  1.0e+02]\n",
      " [ 0.0e+00  0.0e+00  0.0e+00]]\n",
      "[[0 0 0]\n",
      " [0 0 0]\n",
      " [0 0 0]\n",
      " [0 0 0]\n",
      " [0 0 0]]\n",
      "[[ 1.0e+00  1.0e+01  1.0e+02  1.0e+00  1.0e+01  1.0e+02  0.0e+00  0.0e+00\n",
      "   0.0e+00]\n",
      " [ 2.0e+00  2.0e+01  2.0e+02  1.0e+00  1.0e+01  9.8e+03  0.0e+00  0.0e+00\n",
      "   0.0e+00]\n",
      " [ 3.0e+00  3.0e+01  1.0e+04  1.0e+00  1.0e+01 -9.6e+03  0.0e+00  0.0e+00\n",
      "   0.0e+00]\n",
      " [ 4.0e+00  4.0e+01  4.0e+02  1.0e+00  1.0e+01  1.0e+02  0.0e+00  0.0e+00\n",
      "   0.0e+00]\n",
      " [ 5.0e+00  5.0e+01  5.0e+02  0.0e+00  0.0e+00  0.0e+00  0.0e+00  0.0e+00\n",
      "   0.0e+00]]\n"
     ]
    },
    {
     "data": {
      "application/javascript": "parent.postMessage({\"jupyterEvent\": \"custom.exercise_interaction\", \"data\": {\"outcomeType\": 1, \"valueTowardsCompletion\": 0.05, \"interactionType\": 1, \"questionType\": 1, \"questionId\": \"20_Exercise20\", \"failureMessage\": \"\", \"exceptionClass\": \"\", \"trace\": \"\"}}, \"*\")",
      "text/plain": [
       "<IPython.core.display.Javascript object>"
      ]
     },
     "metadata": {},
     "output_type": "display_data"
    },
    {
     "data": {
      "text/markdown": [
       "<span style=\"color:#33cc33\">Correct</span>"
      ],
      "text/plain": [
       "Correct"
      ]
     },
     "metadata": {},
     "output_type": "display_data"
    }
   ],
   "source": [
    "input = np.array(\n",
    "    [\n",
    "        [1.0, 10.0, 100.0],\n",
    "        [2.0, 20.0, 200.0],\n",
    "        [3.0, 30.0, 10000.0],  # Outlier in third column\n",
    "        [4.0, 40.0, 400.0],\n",
    "        [5.0, 50.0, 500.0],\n",
    "    ]\n",
    ")\n",
    "\n",
    "\n",
    "def question_20(input):\n",
    "    print(input)\n",
    "#----------------------------------------#\n",
    "#  Normalize Each Sensor Reading  #\n",
    "    mean_val = np.mean(input, axis = 0)\n",
    "    print(mean_val)\n",
    "\n",
    "    std_dev = np.std(input, axis = 0)\n",
    "    std_dev[std_dev == 0] = 1\n",
    "    print(std_dev)\n",
    "\n",
    "    normalized_input = (input - mean_val) / std_dev\n",
    "    print(normalized_input)    \n",
    "#-----------------------------------------------------#\n",
    "# Detect and Mask Anomalous Values #\n",
    "    mask = np.abs(normalized_input) > 2.5\n",
    "    print(mask)\n",
    "    Anomalous_Values = np.where(mask, np.nan, input)\n",
    "    print(Anomalous_Values)\n",
    "\n",
    "# Interpolate Missing Values (NaN Handling) #\n",
    "    interpolated_matrix = np.where(np.isnan(Anomalous_Values), np.nanmean(Anomalous_Values, axis = 0), Anomalous_Values)\n",
    "    print(interpolated_matrix)\n",
    "\n",
    "# Extract First-Order Differences #\n",
    "    timeSteps_diff = np.diff(interpolated_matrix, axis = 0)\n",
    "    timeSteps_diff_padded = np.vstack(\n",
    "    (timeSteps_diff, np.zeros((1, timeSteps_diff.shape[1])))\n",
    ")\n",
    "    print(timeSteps_diff_padded)\n",
    "\n",
    "# Create a new column `missing_flag` that is `1` where original data was `NaN`, otherwise `0` #\n",
    "    missing_flag_col = np.isnan(Anomalous_Values).astype(int)\n",
    "    print(missing_flag_col)\n",
    "\n",
    "# Stack All Features into a Final Matrix #\n",
    "    q20_sol = np.hstack([Anomalous_Values, timeSteps_diff_padded, missing_flag_col])\n",
    "    print(q20_sol)\n",
    "    return q20_sol\n",
    "    #raise NotImplementedError\n",
    "\n",
    "\n",
    "\n",
    "q20_sol = question_20(input)\n",
    "q20.check()"
   ]
  }
 ],
 "metadata": {
  "kernelspec": {
   "display_name": "Python 3",
   "language": "python",
   "name": "python3"
  },
  "language_info": {
   "codemirror_mode": {
    "name": "ipython",
    "version": 3
   },
   "file_extension": ".py",
   "mimetype": "text/x-python",
   "name": "python",
   "nbconvert_exporter": "python",
   "pygments_lexer": "ipython3",
   "version": "3.12.1"
  }
 },
 "nbformat": 4,
 "nbformat_minor": 2
}
